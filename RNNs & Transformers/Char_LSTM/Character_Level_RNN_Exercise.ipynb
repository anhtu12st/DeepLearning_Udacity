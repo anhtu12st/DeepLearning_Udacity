{
 "cells": [
  {
   "cell_type": "markdown",
   "metadata": {},
   "source": [
    "# Character-Level LSTM in PyTorch\n",
    "\n",
    "In this notebook, I'll construct a character-level LSTM with PyTorch. The network will train character by character on some text, then generate new text character by character. As an example, I will train on Anna Karenina. **This model will be able to generate new text based on the text from the book!**\n",
    "\n",
    "This network is based off of Andrej Karpathy's [post on RNNs](http://karpathy.github.io/2015/05/21/rnn-effectiveness/) and [implementation in Torch](https://github.com/karpathy/char-rnn). Below is the general architecture of the character-wise RNN.\n",
    "\n",
    "<img src=\"assets/charseq.jpeg\" width=\"500\">"
   ]
  },
  {
   "cell_type": "markdown",
   "metadata": {},
   "source": [
    "First let's load in our required resources for data loading and model creation."
   ]
  },
  {
   "cell_type": "code",
   "execution_count": 1,
   "metadata": {},
   "outputs": [],
   "source": [
    "import numpy as np\n",
    "import torch\n",
    "from torch import nn\n",
    "import torch.nn.functional as F"
   ]
  },
  {
   "cell_type": "markdown",
   "metadata": {},
   "source": [
    "## Load in Data\n",
    "\n",
    "Then, we'll load the Anna Karenina text file and convert it into integers for our network to use. "
   ]
  },
  {
   "cell_type": "code",
   "execution_count": 2,
   "metadata": {},
   "outputs": [],
   "source": [
    "# open text file and read in data as `text`\n",
    "with open('data/anna.txt', 'r') as f:\n",
    "    text = f.read()"
   ]
  },
  {
   "cell_type": "markdown",
   "metadata": {},
   "source": [
    "Let's check out the first 100 characters, make sure everything is peachy. According to the [American Book Review](http://americanbookreview.org/100bestlines.asp), this is the 6th best first line of a book ever."
   ]
  },
  {
   "cell_type": "code",
   "execution_count": 3,
   "metadata": {},
   "outputs": [
    {
     "data": {
      "text/plain": [
       "'Chapter 1\\n\\n\\nHappy families are all alike; every unhappy family is unhappy in its own\\nway.\\n\\nEverythin'"
      ]
     },
     "execution_count": 3,
     "metadata": {},
     "output_type": "execute_result"
    }
   ],
   "source": [
    "text[:100]"
   ]
  },
  {
   "cell_type": "markdown",
   "metadata": {},
   "source": [
    "### Tokenization\n",
    "\n",
    "In the cells, below, I'm creating a couple **dictionaries** to convert the characters to and from integers. Encoding the characters as integers makes it easier to use as input in the network."
   ]
  },
  {
   "cell_type": "code",
   "execution_count": 4,
   "metadata": {},
   "outputs": [],
   "source": [
    "# encode the text and map each character to an integer and vice versa\n",
    "\n",
    "# we create two dictionaries:\n",
    "# 1. int2char, which maps integers to characters\n",
    "# 2. char2int, which maps characters to unique integers\n",
    "chars = tuple(set(text))\n",
    "int2char = dict(enumerate(chars))\n",
    "char2int = {ch: ii for ii, ch in int2char.items()}\n",
    "\n",
    "# encode the text\n",
    "encoded = np.array([char2int[ch] for ch in text])"
   ]
  },
  {
   "cell_type": "markdown",
   "metadata": {},
   "source": [
    "And we can see those same characters from above, encoded as integers."
   ]
  },
  {
   "cell_type": "code",
   "execution_count": 5,
   "metadata": {},
   "outputs": [
    {
     "data": {
      "text/plain": [
       "array([31, 32, 58, 63, 62, 68, 25, 80, 44, 53, 53, 53, 74, 58, 63, 63, 10,\n",
       "       80, 37, 58,  0, 20,  6, 20, 68, 27, 80, 58, 25, 68, 80, 58,  6,  6,\n",
       "       80, 58,  6, 20, 18, 68, 43, 80, 68, 56, 68, 25, 10, 80, 22, 24, 32,\n",
       "       58, 63, 63, 10, 80, 37, 58,  0, 20,  6, 10, 80, 20, 27, 80, 22, 24,\n",
       "       32, 58, 63, 63, 10, 80, 20, 24, 80, 20, 62, 27, 80, 45, 39, 24, 53,\n",
       "       39, 58, 10, 28, 53, 53, 23, 56, 68, 25, 10, 62, 32, 20, 24])"
      ]
     },
     "execution_count": 5,
     "metadata": {},
     "output_type": "execute_result"
    }
   ],
   "source": [
    "encoded[:100]"
   ]
  },
  {
   "cell_type": "markdown",
   "metadata": {},
   "source": [
    "## Pre-processing the data\n",
    "\n",
    "As you can see in our char-RNN image above, our LSTM expects an input that is **one-hot encoded** meaning that each character is converted into an integer (via our created dictionary) and *then* converted into a column vector where only it's corresponding integer index will have the value of 1 and the rest of the vector will be filled with 0's. Since we're one-hot encoding the data, let's make a function to do that!\n"
   ]
  },
  {
   "cell_type": "code",
   "execution_count": 12,
   "metadata": {},
   "outputs": [],
   "source": [
    "def one_hot_encode(arr, n_labels):\n",
    "    \n",
    "    # Initialize the the encoded array\n",
    "    one_hot = np.zeros((np.multiply(*arr.shape), n_labels), dtype=np.float32)\n",
    "    \n",
    "    # Fill the appropriate elements with ones\n",
    "    one_hot[np.arange(one_hot.shape[0]), arr.flatten()] = 1.\n",
    "    \n",
    "    # Finally reshape it to get back to the original array\n",
    "    one_hot = one_hot.reshape((*arr.shape, n_labels))\n",
    "    \n",
    "    return one_hot"
   ]
  },
  {
   "cell_type": "code",
   "execution_count": 13,
   "metadata": {},
   "outputs": [
    {
     "name": "stdout",
     "output_type": "stream",
     "text": [
      "[[[ 0.  0.  0.  1.  0.  0.  0.  0.]\n",
      "  [ 0.  0.  0.  0.  0.  1.  0.  0.]\n",
      "  [ 0.  1.  0.  0.  0.  0.  0.  0.]]]\n"
     ]
    }
   ],
   "source": [
    "# check that the function works as expected\n",
    "test_seq = np.array([[3, 5, 1]])\n",
    "one_hot = one_hot_encode(test_seq, 8)\n",
    "\n",
    "print(one_hot)"
   ]
  },
  {
   "cell_type": "markdown",
   "metadata": {},
   "source": [
    "## Making training mini-batches\n",
    "\n",
    "\n",
    "To train on this data, we also want to create mini-batches for training. Remember that we want our batches to be multiple sequences of some desired number of sequence steps. Considering a simple example, our batches would look like this:\n",
    "\n",
    "<img src=\"assets/sequence_batching@1x.png\" width=500px>\n",
    "\n",
    "\n",
    "<br>\n",
    "\n",
    "In this example, we'll take the encoded characters (passed in as the `arr` parameter) and split them into multiple sequences, given by `batch_size`. Each of our sequences will be `seq_length` long.\n",
    "\n",
    "### Creating Batches\n",
    "\n",
    "**1. The first thing we need to do is discard some of the text so we only have completely full mini-batches. **\n",
    "\n",
    "Each batch contains $N \\times M$ characters, where $N$ is the batch size (the number of sequences in a batch) and $M$ is the seq_length or number of time steps in a sequence. Then, to get the total number of batches, $K$, that we can make from the array `arr`, you divide the length of `arr` by the number of characters per batch. Once you know the number of batches, you can get the total number of characters to keep from `arr`, $N * M * K$.\n",
    "\n",
    "**2. After that, we need to split `arr` into $N$ batches. ** \n",
    "\n",
    "You can do this using `arr.reshape(size)` where `size` is a tuple containing the dimensions sizes of the reshaped array. We know we want $N$ sequences in a batch, so let's make that the size of the first dimension. For the second dimension, you can use `-1` as a placeholder in the size, it'll fill up the array with the appropriate data for you. After this, you should have an array that is $N \\times (M * K)$.\n",
    "\n",
    "**3. Now that we have this array, we can iterate through it to get our mini-batches. **\n",
    "\n",
    "The idea is each batch is a $N \\times M$ window on the $N \\times (M * K)$ array. For each subsequent batch, the window moves over by `seq_length`. We also want to create both the input and target arrays. Remember that the targets are just the inputs shifted over by one character. The way I like to do this window is use `range` to take steps of size `n_steps` from $0$ to `arr.shape[1]`, the total number of tokens in each sequence. That way, the integers you get from `range` always point to the start of a batch, and each window is `seq_length` wide.\n",
    "\n",
    "> **TODO:** Write the code for creating batches in the function below. The exercises in this notebook _will not be easy_. I've provided a notebook with solutions alongside this notebook. If you get stuck, checkout the solutions. The most important thing is that you don't copy and paste the code into here, **type out the solution code yourself.**"
   ]
  },
  {
   "cell_type": "code",
   "execution_count": 31,
   "metadata": {},
   "outputs": [],
   "source": [
    "def get_batches(arr, batch_size, seq_length):\n",
    "    '''Create a generator that returns batches of size\n",
    "       batch_size x seq_length from arr.\n",
    "       \n",
    "       Arguments\n",
    "       ---------\n",
    "       arr: Array you want to make batches from\n",
    "       batch_size: Batch size, the number of sequences per batch\n",
    "       seq_length: Number of encoded chars in a sequence\n",
    "    '''\n",
    "    \n",
    "    ## TODO: Get the number of batches we can make\n",
    "    n_batches = len(arr) // (batch_size * seq_length)\n",
    "    \n",
    "    ## TODO: Keep only enough characters to make full batches\n",
    "    arr = arr[:n_batches * batch_size * seq_length]\n",
    "    \n",
    "    ## TODO: Reshape into batch_size rows\n",
    "    arr = arr.reshape((batch_size, -1))\n",
    "    \n",
    "    ## TODO: Iterate over the batches using a window of size seq_length\n",
    "    for n in range(0, arr.shape[1], seq_length):\n",
    "        # The features\n",
    "        x = arr[:, n:n+seq_length]\n",
    "\n",
    "        # The targets, shifted by one\n",
    "        y = np.zeros_like(x)\n",
    "\n",
    "        try:\n",
    "            y[:, :-1], y[:, -1] = x[:, 1:], arr[:, n+seq_length]\n",
    "        except IndexError:\n",
    "            y[:, :-1], y[:, -1] = x[:, 1:], arr[:, 0]\n",
    "        yield x, y"
   ]
  },
  {
   "cell_type": "markdown",
   "metadata": {},
   "source": [
    "### Test Your Implementation\n",
    "\n",
    "Now I'll make some data sets and we can check out what's going on as we batch data. Here, as an example, I'm going to use a batch size of 8 and 50 sequence steps."
   ]
  },
  {
   "cell_type": "code",
   "execution_count": 32,
   "metadata": {},
   "outputs": [],
   "source": [
    "batches = get_batches(encoded, 8, 50)\n",
    "x, y = next(batches)"
   ]
  },
  {
   "cell_type": "code",
   "execution_count": 33,
   "metadata": {},
   "outputs": [
    {
     "name": "stdout",
     "output_type": "stream",
     "text": [
      "x\n",
      " [[31 32 58 63 62 68 25 80 44 53]\n",
      " [27 45 24 80 62 32 58 62 80 58]\n",
      " [68 24 35 80 45 25 80 58 80 37]\n",
      " [27 80 62 32 68 80 11 32 20 68]\n",
      " [80 27 58 39 80 32 68 25 80 62]\n",
      " [11 22 27 27 20 45 24 80 58 24]\n",
      " [80 65 24 24 58 80 32 58 35 80]\n",
      " [67  8  6 45 24 27 18 10 28 80]]\n",
      "\n",
      "y\n",
      " [[32 58 63 62 68 25 80 44 53 53]\n",
      " [45 24 80 62 32 58 62 80 58 62]\n",
      " [24 35 80 45 25 80 58 80 37 45]\n",
      " [80 62 32 68 80 11 32 20 68 37]\n",
      " [27 58 39 80 32 68 25 80 62 68]\n",
      " [22 27 27 20 45 24 80 58 24 35]\n",
      " [65 24 24 58 80 32 58 35 80 27]\n",
      " [ 8  6 45 24 27 18 10 28 80 79]]\n"
     ]
    }
   ],
   "source": [
    "# printing out the first 10 items in a sequence\n",
    "print('x\\n', x[:10, :10])\n",
    "print('\\ny\\n', y[:10, :10])"
   ]
  },
  {
   "cell_type": "markdown",
   "metadata": {},
   "source": [
    "If you implemented `get_batches` correctly, the above output should look something like \n",
    "```\n",
    "x\n",
    " [[25  8 60 11 45 27 28 73  1  2]\n",
    " [17  7 20 73 45  8 60 45 73 60]\n",
    " [27 20 80 73  7 28 73 60 73 65]\n",
    " [17 73 45  8 27 73 66  8 46 27]\n",
    " [73 17 60 12 73  8 27 28 73 45]\n",
    " [66 64 17 17 46  7 20 73 60 20]\n",
    " [73 76 20 20 60 73  8 60 80 73]\n",
    " [47 35 43  7 20 17 24 50 37 73]]\n",
    "\n",
    "y\n",
    " [[ 8 60 11 45 27 28 73  1  2  2]\n",
    " [ 7 20 73 45  8 60 45 73 60 45]\n",
    " [20 80 73  7 28 73 60 73 65  7]\n",
    " [73 45  8 27 73 66  8 46 27 65]\n",
    " [17 60 12 73  8 27 28 73 45 27]\n",
    " [64 17 17 46  7 20 73 60 20 80]\n",
    " [76 20 20 60 73  8 60 80 73 17]\n",
    " [35 43  7 20 17 24 50 37 73 36]]\n",
    " ```\n",
    " although the exact numbers may be different. Check to make sure the data is shifted over one step for `y`."
   ]
  },
  {
   "cell_type": "markdown",
   "metadata": {},
   "source": [
    "---\n",
    "## Defining the network with PyTorch\n",
    "\n",
    "Below is where you'll define the network.\n",
    "\n",
    "<img src=\"assets/charRNN.png\" width=500px>\n",
    "\n",
    "Next, you'll use PyTorch to define the architecture of the network. We start by defining the layers and operations we want. Then, define a method for the forward pass. You've also been given a method for predicting characters."
   ]
  },
  {
   "cell_type": "markdown",
   "metadata": {},
   "source": [
    "### Model Structure\n",
    "\n",
    "In `__init__` the suggested structure is as follows:\n",
    "* Create and store the necessary dictionaries (this has been done for you)\n",
    "* Define an LSTM layer that takes as params: an input size (the number of characters), a hidden layer size `n_hidden`, a number of layers `n_layers`, a dropout probability `drop_prob`, and a batch_first boolean (True, since we are batching)\n",
    "* Define a dropout layer with `dropout_prob`\n",
    "* Define a fully-connected layer with params: input size `n_hidden` and output size (the number of characters)\n",
    "* Finally, initialize the weights (again, this has been given)\n",
    "\n",
    "Note that some parameters have been named and given in the `__init__` function, and we use them and store them by doing something like `self.drop_prob = drop_prob`."
   ]
  },
  {
   "cell_type": "markdown",
   "metadata": {},
   "source": [
    "---\n",
    "### LSTM Inputs/Outputs\n",
    "\n",
    "You can create a basic [LSTM layer](https://pytorch.org/docs/stable/nn.html#lstm) as follows\n",
    "\n",
    "```python\n",
    "self.lstm = nn.LSTM(input_size, n_hidden, n_layers, \n",
    "                            dropout=drop_prob, batch_first=True)\n",
    "```\n",
    "\n",
    "where `input_size` is the number of characters this cell expects to see as sequential input, and `n_hidden` is the number of units in the hidden layers in the cell. And we can add dropout by adding a dropout parameter with a specified probability; this will automatically add dropout to the inputs or outputs. Finally, in the `forward` function, we can stack up the LSTM cells into layers using `.view`. With this, you pass in a list of cells and it will send the output of one cell into the next cell.\n",
    "\n",
    "We also need to create an initial hidden state of all zeros. This is done like so\n",
    "\n",
    "```python\n",
    "self.init_hidden()\n",
    "```"
   ]
  },
  {
   "cell_type": "code",
   "execution_count": 34,
   "metadata": {},
   "outputs": [
    {
     "name": "stdout",
     "output_type": "stream",
     "text": [
      "Training on GPU!\n"
     ]
    }
   ],
   "source": [
    "# check if GPU is available\n",
    "train_on_gpu = torch.cuda.is_available()\n",
    "if(train_on_gpu):\n",
    "    print('Training on GPU!')\n",
    "else: \n",
    "    print('No GPU available, training on CPU; consider making n_epochs very small.')"
   ]
  },
  {
   "cell_type": "code",
   "execution_count": 35,
   "metadata": {},
   "outputs": [],
   "source": [
    "class CharRNN(nn.Module):\n",
    "    \n",
    "    def __init__(self, tokens, n_hidden=256, n_layers=2,\n",
    "                               drop_prob=0.5, lr=0.001):\n",
    "        super().__init__()\n",
    "        self.drop_prob = drop_prob\n",
    "        self.n_layers = n_layers\n",
    "        self.n_hidden = n_hidden\n",
    "        self.lr = lr\n",
    "        \n",
    "        # creating character dictionaries\n",
    "        self.chars = tokens\n",
    "        self.int2char = dict(enumerate(self.chars))\n",
    "        self.char2int = {ch: ii for ii, ch in self.int2char.items()}\n",
    "        \n",
    "        ## TODO: define the layers of the model\n",
    "        self.lstm = nn.LSTM(len(chars), n_hidden, n_layers, dropout=drop_prob, batch_first=True)\n",
    "        self.dropout = nn.Dropout(drop_prob)\n",
    "        self.fc = nn.Linear(n_hidden, len(chars))\n",
    "      \n",
    "    \n",
    "    def forward(self, x, hidden):\n",
    "        ''' Forward pass through the network. \n",
    "            These inputs are x, and the hidden/cell state `hidden`. '''\n",
    "                \n",
    "        ## TODO: Get the outputs and the new hidden state from the lstm\n",
    "        out, hidden = self.lstm(x, hidden)\n",
    "        out = self.dropout(out)\n",
    "        out = out.contiguous().view(-1, self.n_hidden)\n",
    "        out = self.fc(out)\n",
    "        \n",
    "        # return the final output and the hidden state\n",
    "        return out, hidden\n",
    "    \n",
    "    \n",
    "    def init_hidden(self, batch_size):\n",
    "        ''' Initializes hidden state '''\n",
    "        # Create two new tensors with sizes n_layers x batch_size x n_hidden,\n",
    "        # initialized to zero, for hidden state and cell state of LSTM\n",
    "        weight = next(self.parameters()).data\n",
    "        \n",
    "        if (train_on_gpu):\n",
    "            hidden = (weight.new(self.n_layers, batch_size, self.n_hidden).zero_().cuda(),\n",
    "                  weight.new(self.n_layers, batch_size, self.n_hidden).zero_().cuda())\n",
    "        else:\n",
    "            hidden = (weight.new(self.n_layers, batch_size, self.n_hidden).zero_(),\n",
    "                      weight.new(self.n_layers, batch_size, self.n_hidden).zero_())\n",
    "        \n",
    "        return hidden\n",
    "        "
   ]
  },
  {
   "cell_type": "markdown",
   "metadata": {},
   "source": [
    "## Time to train\n",
    "\n",
    "The train function gives us the ability to set the number of epochs, the learning rate, and other parameters.\n",
    "\n",
    "Below we're using an Adam optimizer and cross entropy loss since we are looking at character class scores as output. We calculate the loss and perform backpropagation, as usual!\n",
    "\n",
    "A couple of details about training: \n",
    ">* Within the batch loop, we detach the hidden state from its history; this time setting it equal to a new *tuple* variable because an LSTM has a hidden state that is a tuple of the hidden and cell states.\n",
    "* We use [`clip_grad_norm_`](https://pytorch.org/docs/stable/_modules/torch/nn/utils/clip_grad.html) to help prevent exploding gradients."
   ]
  },
  {
   "cell_type": "code",
   "execution_count": 38,
   "metadata": {},
   "outputs": [],
   "source": [
    "def train(net, data, epochs=10, batch_size=10, seq_length=50, lr=0.001, clip=5, val_frac=0.1, print_every=10):\n",
    "    ''' Training a network \n",
    "    \n",
    "        Arguments\n",
    "        ---------\n",
    "        \n",
    "        net: CharRNN network\n",
    "        data: text data to train the network\n",
    "        epochs: Number of epochs to train\n",
    "        batch_size: Number of mini-sequences per mini-batch, aka batch size\n",
    "        seq_length: Number of character steps per mini-batch\n",
    "        lr: learning rate\n",
    "        clip: gradient clipping\n",
    "        val_frac: Fraction of data to hold out for validation\n",
    "        print_every: Number of steps for printing training and validation loss\n",
    "    \n",
    "    '''\n",
    "    net.train()\n",
    "    \n",
    "    opt = torch.optim.Adam(net.parameters(), lr=lr)\n",
    "    criterion = nn.CrossEntropyLoss()\n",
    "    \n",
    "    # create training and validation data\n",
    "    val_idx = int(len(data)*(1-val_frac))\n",
    "    data, val_data = data[:val_idx], data[val_idx:]\n",
    "    \n",
    "    if(train_on_gpu):\n",
    "        net.cuda()\n",
    "    \n",
    "    counter = 0\n",
    "    n_chars = len(net.chars)\n",
    "    for e in range(epochs):\n",
    "        # initialize hidden state\n",
    "        h = net.init_hidden(batch_size)\n",
    "        \n",
    "        for x, y in get_batches(data, batch_size, seq_length):\n",
    "            counter += 1\n",
    "            \n",
    "            # One-hot encode our data and make them Torch tensors\n",
    "            x = one_hot_encode(x, n_chars)\n",
    "            inputs, targets = torch.from_numpy(x), torch.from_numpy(y)\n",
    "            \n",
    "            if(train_on_gpu):\n",
    "                inputs, targets = inputs.cuda(), targets.cuda()\n",
    "\n",
    "            # Creating new variables for the hidden state, otherwise\n",
    "            # we'd backprop through the entire training history\n",
    "            h = tuple([each.data for each in h])\n",
    "\n",
    "            # zero accumulated gradients\n",
    "            net.zero_grad()\n",
    "            \n",
    "            # get the output from the model\n",
    "            output, h = net(inputs, h)\n",
    "            \n",
    "            # calculate the loss and perform backprop\n",
    "            loss = criterion(output, targets.view(batch_size*seq_length))\n",
    "            loss.backward()\n",
    "            # `clip_grad_norm` helps prevent the exploding gradient problem in RNNs / LSTMs.\n",
    "            nn.utils.clip_grad_norm_(net.parameters(), clip)\n",
    "            opt.step()\n",
    "            \n",
    "            # loss stats\n",
    "            if counter % print_every == 0:\n",
    "                # Get validation loss\n",
    "                val_h = net.init_hidden(batch_size)\n",
    "                val_losses = []\n",
    "                net.eval()\n",
    "                for x, y in get_batches(val_data, batch_size, seq_length):\n",
    "                    # One-hot encode our data and make them Torch tensors\n",
    "                    x = one_hot_encode(x, n_chars)\n",
    "                    x, y = torch.from_numpy(x), torch.from_numpy(y)\n",
    "                    \n",
    "                    # Creating new variables for the hidden state, otherwise\n",
    "                    # we'd backprop through the entire training history\n",
    "                    val_h = tuple([each.data for each in val_h])\n",
    "                    \n",
    "                    inputs, targets = x, y\n",
    "                    if(train_on_gpu):\n",
    "                        inputs, targets = inputs.cuda(), targets.cuda()\n",
    "\n",
    "                    output, val_h = net(inputs, val_h)\n",
    "                    val_loss = criterion(output, targets.view(batch_size*seq_length))\n",
    "                \n",
    "                    val_losses.append(val_loss.item())\n",
    "                \n",
    "                net.train() # reset to train mode after iterationg through validation data\n",
    "                \n",
    "                print(\"Epoch: {}/{}...\".format(e+1, epochs),\n",
    "                      \"Step: {}...\".format(counter),\n",
    "                      \"Loss: {:.4f}...\".format(loss.item()),\n",
    "                      \"Val Loss: {:.4f}\".format(np.mean(val_losses)))"
   ]
  },
  {
   "cell_type": "markdown",
   "metadata": {},
   "source": [
    "## Instantiating the model\n",
    "\n",
    "Now we can actually train the network. First we'll create the network itself, with some given hyperparameters. Then, define the mini-batches sizes, and start training!"
   ]
  },
  {
   "cell_type": "code",
   "execution_count": 36,
   "metadata": {},
   "outputs": [
    {
     "name": "stdout",
     "output_type": "stream",
     "text": [
      "CharRNN(\n",
      "  (lstm): LSTM(83, 512, num_layers=2, batch_first=True, dropout=0.5)\n",
      "  (dropout): Dropout(p=0.5)\n",
      "  (fc): Linear(in_features=512, out_features=83, bias=True)\n",
      ")\n"
     ]
    }
   ],
   "source": [
    "## TODO: set you model hyperparameters\n",
    "# define and print the net\n",
    "n_hidden=512\n",
    "n_layers=2\n",
    "\n",
    "net = CharRNN(chars, n_hidden, n_layers)\n",
    "print(net)"
   ]
  },
  {
   "cell_type": "markdown",
   "metadata": {},
   "source": [
    "### Set your training hyperparameters!"
   ]
  },
  {
   "cell_type": "code",
   "execution_count": 39,
   "metadata": {
    "scrolled": true
   },
   "outputs": [
    {
     "name": "stdout",
     "output_type": "stream",
     "text": [
      "Epoch: 1/20... Step: 10... Loss: 3.2461... Val Loss: 3.1940\n",
      "Epoch: 1/20... Step: 20... Loss: 3.1420... Val Loss: 3.1322\n",
      "Epoch: 1/20... Step: 30... Loss: 3.1349... Val Loss: 3.1213\n",
      "Epoch: 1/20... Step: 40... Loss: 3.1089... Val Loss: 3.1196\n",
      "Epoch: 1/20... Step: 50... Loss: 3.1399... Val Loss: 3.1168\n",
      "Epoch: 1/20... Step: 60... Loss: 3.1154... Val Loss: 3.1143\n",
      "Epoch: 1/20... Step: 70... Loss: 3.1038... Val Loss: 3.1105\n",
      "Epoch: 1/20... Step: 80... Loss: 3.1129... Val Loss: 3.1011\n",
      "Epoch: 1/20... Step: 90... Loss: 3.0986... Val Loss: 3.0840\n",
      "Epoch: 1/20... Step: 100... Loss: 3.0541... Val Loss: 3.0375\n",
      "Epoch: 1/20... Step: 110... Loss: 2.9643... Val Loss: 2.9410\n",
      "Epoch: 1/20... Step: 120... Loss: 2.8134... Val Loss: 2.8091\n",
      "Epoch: 1/20... Step: 130... Loss: 2.7449... Val Loss: 2.6974\n",
      "Epoch: 2/20... Step: 140... Loss: 2.6348... Val Loss: 2.5875\n",
      "Epoch: 2/20... Step: 150... Loss: 2.5761... Val Loss: 2.5274\n",
      "Epoch: 2/20... Step: 160... Loss: 2.5085... Val Loss: 2.4667\n",
      "Epoch: 2/20... Step: 170... Loss: 2.4377... Val Loss: 2.4319\n",
      "Epoch: 2/20... Step: 180... Loss: 2.4183... Val Loss: 2.3950\n",
      "Epoch: 2/20... Step: 190... Loss: 2.3589... Val Loss: 2.3587\n",
      "Epoch: 2/20... Step: 200... Loss: 2.3718... Val Loss: 2.3420\n",
      "Epoch: 2/20... Step: 210... Loss: 2.3232... Val Loss: 2.3027\n",
      "Epoch: 2/20... Step: 220... Loss: 2.2881... Val Loss: 2.2735\n",
      "Epoch: 2/20... Step: 230... Loss: 2.2751... Val Loss: 2.2453\n",
      "Epoch: 2/20... Step: 240... Loss: 2.2556... Val Loss: 2.2207\n",
      "Epoch: 2/20... Step: 250... Loss: 2.1878... Val Loss: 2.1921\n",
      "Epoch: 2/20... Step: 260... Loss: 2.1654... Val Loss: 2.1703\n",
      "Epoch: 2/20... Step: 270... Loss: 2.1830... Val Loss: 2.1565\n",
      "Epoch: 3/20... Step: 280... Loss: 2.1652... Val Loss: 2.1293\n",
      "Epoch: 3/20... Step: 290... Loss: 2.1363... Val Loss: 2.1065\n",
      "Epoch: 3/20... Step: 300... Loss: 2.1097... Val Loss: 2.0824\n",
      "Epoch: 3/20... Step: 310... Loss: 2.0857... Val Loss: 2.0666\n",
      "Epoch: 3/20... Step: 320... Loss: 2.0549... Val Loss: 2.0435\n",
      "Epoch: 3/20... Step: 330... Loss: 2.0267... Val Loss: 2.0309\n",
      "Epoch: 3/20... Step: 340... Loss: 2.0474... Val Loss: 2.0107\n",
      "Epoch: 3/20... Step: 350... Loss: 2.0301... Val Loss: 1.9910\n",
      "Epoch: 3/20... Step: 360... Loss: 1.9544... Val Loss: 1.9781\n",
      "Epoch: 3/20... Step: 370... Loss: 1.9926... Val Loss: 1.9586\n",
      "Epoch: 3/20... Step: 380... Loss: 1.9545... Val Loss: 1.9416\n",
      "Epoch: 3/20... Step: 390... Loss: 1.9280... Val Loss: 1.9272\n",
      "Epoch: 3/20... Step: 400... Loss: 1.9078... Val Loss: 1.9093\n",
      "Epoch: 3/20... Step: 410... Loss: 1.9253... Val Loss: 1.8992\n",
      "Epoch: 4/20... Step: 420... Loss: 1.9120... Val Loss: 1.8843\n",
      "Epoch: 4/20... Step: 430... Loss: 1.9005... Val Loss: 1.8655\n",
      "Epoch: 4/20... Step: 440... Loss: 1.8861... Val Loss: 1.8577\n",
      "Epoch: 4/20... Step: 450... Loss: 1.8313... Val Loss: 1.8433\n",
      "Epoch: 4/20... Step: 460... Loss: 1.8223... Val Loss: 1.8341\n",
      "Epoch: 4/20... Step: 470... Loss: 1.8553... Val Loss: 1.8261\n",
      "Epoch: 4/20... Step: 480... Loss: 1.8283... Val Loss: 1.8096\n",
      "Epoch: 4/20... Step: 490... Loss: 1.8369... Val Loss: 1.7962\n",
      "Epoch: 4/20... Step: 500... Loss: 1.8232... Val Loss: 1.7873\n",
      "Epoch: 4/20... Step: 510... Loss: 1.8012... Val Loss: 1.7776\n",
      "Epoch: 4/20... Step: 520... Loss: 1.8145... Val Loss: 1.7680\n",
      "Epoch: 4/20... Step: 530... Loss: 1.7755... Val Loss: 1.7563\n",
      "Epoch: 4/20... Step: 540... Loss: 1.7401... Val Loss: 1.7442\n",
      "Epoch: 4/20... Step: 550... Loss: 1.7850... Val Loss: 1.7361\n",
      "Epoch: 5/20... Step: 560... Loss: 1.7384... Val Loss: 1.7283\n",
      "Epoch: 5/20... Step: 570... Loss: 1.7349... Val Loss: 1.7158\n",
      "Epoch: 5/20... Step: 580... Loss: 1.7150... Val Loss: 1.7073\n",
      "Epoch: 5/20... Step: 590... Loss: 1.7117... Val Loss: 1.6990\n",
      "Epoch: 5/20... Step: 600... Loss: 1.6982... Val Loss: 1.6942\n",
      "Epoch: 5/20... Step: 610... Loss: 1.6871... Val Loss: 1.6879\n",
      "Epoch: 5/20... Step: 620... Loss: 1.6891... Val Loss: 1.6813\n",
      "Epoch: 5/20... Step: 630... Loss: 1.7033... Val Loss: 1.6713\n",
      "Epoch: 5/20... Step: 640... Loss: 1.6729... Val Loss: 1.6632\n",
      "Epoch: 5/20... Step: 650... Loss: 1.6604... Val Loss: 1.6568\n",
      "Epoch: 5/20... Step: 660... Loss: 1.6408... Val Loss: 1.6488\n",
      "Epoch: 5/20... Step: 670... Loss: 1.6668... Val Loss: 1.6459\n",
      "Epoch: 5/20... Step: 680... Loss: 1.6609... Val Loss: 1.6402\n",
      "Epoch: 5/20... Step: 690... Loss: 1.6420... Val Loss: 1.6317\n",
      "Epoch: 6/20... Step: 700... Loss: 1.6442... Val Loss: 1.6275\n",
      "Epoch: 6/20... Step: 710... Loss: 1.6256... Val Loss: 1.6203\n",
      "Epoch: 6/20... Step: 720... Loss: 1.6077... Val Loss: 1.6113\n",
      "Epoch: 6/20... Step: 730... Loss: 1.6312... Val Loss: 1.6067\n",
      "Epoch: 6/20... Step: 740... Loss: 1.5981... Val Loss: 1.6040\n",
      "Epoch: 6/20... Step: 750... Loss: 1.5774... Val Loss: 1.6021\n",
      "Epoch: 6/20... Step: 760... Loss: 1.6124... Val Loss: 1.5993\n",
      "Epoch: 6/20... Step: 770... Loss: 1.5990... Val Loss: 1.5898\n",
      "Epoch: 6/20... Step: 780... Loss: 1.5819... Val Loss: 1.5813\n",
      "Epoch: 6/20... Step: 790... Loss: 1.5683... Val Loss: 1.5768\n",
      "Epoch: 6/20... Step: 800... Loss: 1.5900... Val Loss: 1.5724\n",
      "Epoch: 6/20... Step: 810... Loss: 1.5760... Val Loss: 1.5727\n",
      "Epoch: 6/20... Step: 820... Loss: 1.5320... Val Loss: 1.5697\n",
      "Epoch: 6/20... Step: 830... Loss: 1.5892... Val Loss: 1.5598\n",
      "Epoch: 7/20... Step: 840... Loss: 1.5399... Val Loss: 1.5548\n",
      "Epoch: 7/20... Step: 850... Loss: 1.5558... Val Loss: 1.5519\n",
      "Epoch: 7/20... Step: 860... Loss: 1.5385... Val Loss: 1.5433\n",
      "Epoch: 7/20... Step: 870... Loss: 1.5489... Val Loss: 1.5402\n",
      "Epoch: 7/20... Step: 880... Loss: 1.5427... Val Loss: 1.5380\n",
      "Epoch: 7/20... Step: 890... Loss: 1.5535... Val Loss: 1.5357\n",
      "Epoch: 7/20... Step: 900... Loss: 1.5230... Val Loss: 1.5315\n",
      "Epoch: 7/20... Step: 910... Loss: 1.4910... Val Loss: 1.5275\n",
      "Epoch: 7/20... Step: 920... Loss: 1.5308... Val Loss: 1.5206\n",
      "Epoch: 7/20... Step: 930... Loss: 1.5046... Val Loss: 1.5214\n",
      "Epoch: 7/20... Step: 940... Loss: 1.5108... Val Loss: 1.5146\n",
      "Epoch: 7/20... Step: 950... Loss: 1.5226... Val Loss: 1.5120\n",
      "Epoch: 7/20... Step: 960... Loss: 1.5194... Val Loss: 1.5087\n",
      "Epoch: 7/20... Step: 970... Loss: 1.5235... Val Loss: 1.5048\n",
      "Epoch: 8/20... Step: 980... Loss: 1.4891... Val Loss: 1.5077\n",
      "Epoch: 8/20... Step: 990... Loss: 1.4879... Val Loss: 1.4986\n",
      "Epoch: 8/20... Step: 1000... Loss: 1.5010... Val Loss: 1.4939\n",
      "Epoch: 8/20... Step: 1010... Loss: 1.5234... Val Loss: 1.4942\n",
      "Epoch: 8/20... Step: 1020... Loss: 1.4844... Val Loss: 1.4905\n",
      "Epoch: 8/20... Step: 1030... Loss: 1.4816... Val Loss: 1.4903\n",
      "Epoch: 8/20... Step: 1040... Loss: 1.4914... Val Loss: 1.4943\n",
      "Epoch: 8/20... Step: 1050... Loss: 1.4696... Val Loss: 1.4823\n",
      "Epoch: 8/20... Step: 1060... Loss: 1.4689... Val Loss: 1.4781\n",
      "Epoch: 8/20... Step: 1070... Loss: 1.4772... Val Loss: 1.4754\n",
      "Epoch: 8/20... Step: 1080... Loss: 1.4710... Val Loss: 1.4744\n",
      "Epoch: 8/20... Step: 1090... Loss: 1.4615... Val Loss: 1.4708\n",
      "Epoch: 8/20... Step: 1100... Loss: 1.4495... Val Loss: 1.4676\n",
      "Epoch: 8/20... Step: 1110... Loss: 1.4480... Val Loss: 1.4655\n",
      "Epoch: 9/20... Step: 1120... Loss: 1.4661... Val Loss: 1.4638\n",
      "Epoch: 9/20... Step: 1130... Loss: 1.4589... Val Loss: 1.4589\n",
      "Epoch: 9/20... Step: 1140... Loss: 1.4723... Val Loss: 1.4539\n",
      "Epoch: 9/20... Step: 1150... Loss: 1.4807... Val Loss: 1.4549\n",
      "Epoch: 9/20... Step: 1160... Loss: 1.4318... Val Loss: 1.4524\n",
      "Epoch: 9/20... Step: 1170... Loss: 1.4429... Val Loss: 1.4545\n",
      "Epoch: 9/20... Step: 1180... Loss: 1.4393... Val Loss: 1.4528\n",
      "Epoch: 9/20... Step: 1190... Loss: 1.4615... Val Loss: 1.4457\n",
      "Epoch: 9/20... Step: 1200... Loss: 1.4221... Val Loss: 1.4419\n",
      "Epoch: 9/20... Step: 1210... Loss: 1.4266... Val Loss: 1.4399\n",
      "Epoch: 9/20... Step: 1220... Loss: 1.4308... Val Loss: 1.4394\n",
      "Epoch: 9/20... Step: 1230... Loss: 1.4122... Val Loss: 1.4346\n",
      "Epoch: 9/20... Step: 1240... Loss: 1.4145... Val Loss: 1.4337\n",
      "Epoch: 9/20... Step: 1250... Loss: 1.4226... Val Loss: 1.4314\n",
      "Epoch: 10/20... Step: 1260... Loss: 1.4194... Val Loss: 1.4358\n",
      "Epoch: 10/20... Step: 1270... Loss: 1.4167... Val Loss: 1.4293\n",
      "Epoch: 10/20... Step: 1280... Loss: 1.4261... Val Loss: 1.4242\n",
      "Epoch: 10/20... Step: 1290... Loss: 1.4290... Val Loss: 1.4275\n",
      "Epoch: 10/20... Step: 1300... Loss: 1.4105... Val Loss: 1.4231\n",
      "Epoch: 10/20... Step: 1310... Loss: 1.4209... Val Loss: 1.4206\n",
      "Epoch: 10/20... Step: 1320... Loss: 1.3767... Val Loss: 1.4192\n",
      "Epoch: 10/20... Step: 1330... Loss: 1.3875... Val Loss: 1.4174\n",
      "Epoch: 10/20... Step: 1340... Loss: 1.3899... Val Loss: 1.4131\n"
     ]
    },
    {
     "name": "stdout",
     "output_type": "stream",
     "text": [
      "Epoch: 10/20... Step: 1350... Loss: 1.3662... Val Loss: 1.4161\n",
      "Epoch: 10/20... Step: 1360... Loss: 1.3788... Val Loss: 1.4116\n",
      "Epoch: 10/20... Step: 1370... Loss: 1.3721... Val Loss: 1.4103\n",
      "Epoch: 10/20... Step: 1380... Loss: 1.4169... Val Loss: 1.4080\n",
      "Epoch: 10/20... Step: 1390... Loss: 1.4107... Val Loss: 1.4079\n",
      "Epoch: 11/20... Step: 1400... Loss: 1.4176... Val Loss: 1.4042\n",
      "Epoch: 11/20... Step: 1410... Loss: 1.4241... Val Loss: 1.4023\n",
      "Epoch: 11/20... Step: 1420... Loss: 1.4167... Val Loss: 1.4003\n",
      "Epoch: 11/20... Step: 1430... Loss: 1.3752... Val Loss: 1.4056\n",
      "Epoch: 11/20... Step: 1440... Loss: 1.4096... Val Loss: 1.3993\n",
      "Epoch: 11/20... Step: 1450... Loss: 1.3367... Val Loss: 1.3999\n",
      "Epoch: 11/20... Step: 1460... Loss: 1.3650... Val Loss: 1.3945\n",
      "Epoch: 11/20... Step: 1470... Loss: 1.3610... Val Loss: 1.3967\n",
      "Epoch: 11/20... Step: 1480... Loss: 1.3759... Val Loss: 1.3907\n",
      "Epoch: 11/20... Step: 1490... Loss: 1.3683... Val Loss: 1.3916\n",
      "Epoch: 11/20... Step: 1500... Loss: 1.3558... Val Loss: 1.3886\n",
      "Epoch: 11/20... Step: 1510... Loss: 1.3380... Val Loss: 1.3902\n",
      "Epoch: 11/20... Step: 1520... Loss: 1.3659... Val Loss: 1.3843\n",
      "Epoch: 12/20... Step: 1530... Loss: 1.4292... Val Loss: 1.3884\n",
      "Epoch: 12/20... Step: 1540... Loss: 1.3748... Val Loss: 1.3853\n",
      "Epoch: 12/20... Step: 1550... Loss: 1.3796... Val Loss: 1.3799\n",
      "Epoch: 12/20... Step: 1560... Loss: 1.3920... Val Loss: 1.3800\n",
      "Epoch: 12/20... Step: 1570... Loss: 1.3478... Val Loss: 1.3857\n",
      "Epoch: 12/20... Step: 1580... Loss: 1.3169... Val Loss: 1.3791\n",
      "Epoch: 12/20... Step: 1590... Loss: 1.3243... Val Loss: 1.3827\n",
      "Epoch: 12/20... Step: 1600... Loss: 1.3453... Val Loss: 1.3753\n",
      "Epoch: 12/20... Step: 1610... Loss: 1.3405... Val Loss: 1.3789\n",
      "Epoch: 12/20... Step: 1620... Loss: 1.3283... Val Loss: 1.3715\n",
      "Epoch: 12/20... Step: 1630... Loss: 1.3687... Val Loss: 1.3722\n",
      "Epoch: 12/20... Step: 1640... Loss: 1.3391... Val Loss: 1.3735\n",
      "Epoch: 12/20... Step: 1650... Loss: 1.3088... Val Loss: 1.3743\n",
      "Epoch: 12/20... Step: 1660... Loss: 1.3648... Val Loss: 1.3686\n",
      "Epoch: 13/20... Step: 1670... Loss: 1.3349... Val Loss: 1.3717\n",
      "Epoch: 13/20... Step: 1680... Loss: 1.3445... Val Loss: 1.3644\n",
      "Epoch: 13/20... Step: 1690... Loss: 1.3219... Val Loss: 1.3632\n",
      "Epoch: 13/20... Step: 1700... Loss: 1.3303... Val Loss: 1.3633\n",
      "Epoch: 13/20... Step: 1710... Loss: 1.3059... Val Loss: 1.3656\n",
      "Epoch: 13/20... Step: 1720... Loss: 1.3178... Val Loss: 1.3625\n",
      "Epoch: 13/20... Step: 1730... Loss: 1.3509... Val Loss: 1.3621\n",
      "Epoch: 13/20... Step: 1740... Loss: 1.3270... Val Loss: 1.3603\n",
      "Epoch: 13/20... Step: 1750... Loss: 1.2874... Val Loss: 1.3621\n",
      "Epoch: 13/20... Step: 1760... Loss: 1.3211... Val Loss: 1.3584\n",
      "Epoch: 13/20... Step: 1770... Loss: 1.3376... Val Loss: 1.3558\n",
      "Epoch: 13/20... Step: 1780... Loss: 1.3086... Val Loss: 1.3575\n",
      "Epoch: 13/20... Step: 1790... Loss: 1.2966... Val Loss: 1.3560\n",
      "Epoch: 13/20... Step: 1800... Loss: 1.3319... Val Loss: 1.3521\n",
      "Epoch: 14/20... Step: 1810... Loss: 1.3248... Val Loss: 1.3534\n",
      "Epoch: 14/20... Step: 1820... Loss: 1.3109... Val Loss: 1.3488\n",
      "Epoch: 14/20... Step: 1830... Loss: 1.3272... Val Loss: 1.3515\n",
      "Epoch: 14/20... Step: 1840... Loss: 1.2760... Val Loss: 1.3460\n",
      "Epoch: 14/20... Step: 1850... Loss: 1.2614... Val Loss: 1.3489\n",
      "Epoch: 14/20... Step: 1860... Loss: 1.3102... Val Loss: 1.3472\n",
      "Epoch: 14/20... Step: 1870... Loss: 1.3197... Val Loss: 1.3472\n",
      "Epoch: 14/20... Step: 1880... Loss: 1.3180... Val Loss: 1.3489\n",
      "Epoch: 14/20... Step: 1890... Loss: 1.3328... Val Loss: 1.3480\n",
      "Epoch: 14/20... Step: 1900... Loss: 1.3053... Val Loss: 1.3423\n",
      "Epoch: 14/20... Step: 1910... Loss: 1.3133... Val Loss: 1.3435\n",
      "Epoch: 14/20... Step: 1920... Loss: 1.3098... Val Loss: 1.3422\n",
      "Epoch: 14/20... Step: 1930... Loss: 1.2765... Val Loss: 1.3401\n",
      "Epoch: 14/20... Step: 1940... Loss: 1.3230... Val Loss: 1.3420\n",
      "Epoch: 15/20... Step: 1950... Loss: 1.2946... Val Loss: 1.3421\n",
      "Epoch: 15/20... Step: 1960... Loss: 1.3081... Val Loss: 1.3346\n",
      "Epoch: 15/20... Step: 1970... Loss: 1.2915... Val Loss: 1.3379\n",
      "Epoch: 15/20... Step: 1980... Loss: 1.2863... Val Loss: 1.3411\n",
      "Epoch: 15/20... Step: 1990... Loss: 1.2881... Val Loss: 1.3359\n",
      "Epoch: 15/20... Step: 2000... Loss: 1.2755... Val Loss: 1.3333\n",
      "Epoch: 15/20... Step: 2010... Loss: 1.2858... Val Loss: 1.3285\n",
      "Epoch: 15/20... Step: 2020... Loss: 1.3073... Val Loss: 1.3282\n",
      "Epoch: 15/20... Step: 2030... Loss: 1.2726... Val Loss: 1.3296\n",
      "Epoch: 15/20... Step: 2040... Loss: 1.2923... Val Loss: 1.3236\n",
      "Epoch: 15/20... Step: 2050... Loss: 1.2767... Val Loss: 1.3292\n",
      "Epoch: 15/20... Step: 2060... Loss: 1.2902... Val Loss: 1.3297\n",
      "Epoch: 15/20... Step: 2070... Loss: 1.2938... Val Loss: 1.3250\n",
      "Epoch: 15/20... Step: 2080... Loss: 1.2875... Val Loss: 1.3279\n",
      "Epoch: 16/20... Step: 2090... Loss: 1.2830... Val Loss: 1.3264\n",
      "Epoch: 16/20... Step: 2100... Loss: 1.2726... Val Loss: 1.3248\n",
      "Epoch: 16/20... Step: 2110... Loss: 1.2649... Val Loss: 1.3211\n",
      "Epoch: 16/20... Step: 2120... Loss: 1.2737... Val Loss: 1.3226\n",
      "Epoch: 16/20... Step: 2130... Loss: 1.2473... Val Loss: 1.3192\n",
      "Epoch: 16/20... Step: 2140... Loss: 1.2540... Val Loss: 1.3182\n",
      "Epoch: 16/20... Step: 2150... Loss: 1.2915... Val Loss: 1.3176\n",
      "Epoch: 16/20... Step: 2160... Loss: 1.2604... Val Loss: 1.3142\n",
      "Epoch: 16/20... Step: 2170... Loss: 1.2607... Val Loss: 1.3185\n",
      "Epoch: 16/20... Step: 2180... Loss: 1.2616... Val Loss: 1.3103\n",
      "Epoch: 16/20... Step: 2190... Loss: 1.2790... Val Loss: 1.3103\n",
      "Epoch: 16/20... Step: 2200... Loss: 1.2534... Val Loss: 1.3165\n",
      "Epoch: 16/20... Step: 2210... Loss: 1.2198... Val Loss: 1.3109\n",
      "Epoch: 16/20... Step: 2220... Loss: 1.2704... Val Loss: 1.3149\n",
      "Epoch: 17/20... Step: 2230... Loss: 1.2486... Val Loss: 1.3115\n",
      "Epoch: 17/20... Step: 2240... Loss: 1.2522... Val Loss: 1.3095\n",
      "Epoch: 17/20... Step: 2250... Loss: 1.2322... Val Loss: 1.3146\n",
      "Epoch: 17/20... Step: 2260... Loss: 1.2535... Val Loss: 1.3080\n",
      "Epoch: 17/20... Step: 2270... Loss: 1.2534... Val Loss: 1.3041\n",
      "Epoch: 17/20... Step: 2280... Loss: 1.2598... Val Loss: 1.3027\n",
      "Epoch: 17/20... Step: 2290... Loss: 1.2578... Val Loss: 1.3016\n",
      "Epoch: 17/20... Step: 2300... Loss: 1.2286... Val Loss: 1.3008\n",
      "Epoch: 17/20... Step: 2310... Loss: 1.2459... Val Loss: 1.3021\n",
      "Epoch: 17/20... Step: 2320... Loss: 1.2356... Val Loss: 1.2995\n",
      "Epoch: 17/20... Step: 2330... Loss: 1.2347... Val Loss: 1.3030\n",
      "Epoch: 17/20... Step: 2340... Loss: 1.2562... Val Loss: 1.3005\n",
      "Epoch: 17/20... Step: 2350... Loss: 1.2568... Val Loss: 1.2983\n",
      "Epoch: 17/20... Step: 2360... Loss: 1.2589... Val Loss: 1.3018\n",
      "Epoch: 18/20... Step: 2370... Loss: 1.2253... Val Loss: 1.2984\n",
      "Epoch: 18/20... Step: 2380... Loss: 1.2378... Val Loss: 1.2961\n",
      "Epoch: 18/20... Step: 2390... Loss: 1.2431... Val Loss: 1.3006\n",
      "Epoch: 18/20... Step: 2400... Loss: 1.2641... Val Loss: 1.2997\n",
      "Epoch: 18/20... Step: 2410... Loss: 1.2559... Val Loss: 1.2976\n",
      "Epoch: 18/20... Step: 2420... Loss: 1.2380... Val Loss: 1.2978\n",
      "Epoch: 18/20... Step: 2430... Loss: 1.2413... Val Loss: 1.2983\n",
      "Epoch: 18/20... Step: 2440... Loss: 1.2237... Val Loss: 1.2940\n",
      "Epoch: 18/20... Step: 2450... Loss: 1.2283... Val Loss: 1.2947\n",
      "Epoch: 18/20... Step: 2460... Loss: 1.2316... Val Loss: 1.2909\n",
      "Epoch: 18/20... Step: 2470... Loss: 1.2329... Val Loss: 1.2903\n",
      "Epoch: 18/20... Step: 2480... Loss: 1.2232... Val Loss: 1.2889\n",
      "Epoch: 18/20... Step: 2490... Loss: 1.2082... Val Loss: 1.2901\n",
      "Epoch: 18/20... Step: 2500... Loss: 1.2248... Val Loss: 1.2919\n",
      "Epoch: 19/20... Step: 2510... Loss: 1.2313... Val Loss: 1.2875\n",
      "Epoch: 19/20... Step: 2520... Loss: 1.2425... Val Loss: 1.2886\n",
      "Epoch: 19/20... Step: 2530... Loss: 1.2469... Val Loss: 1.2904\n",
      "Epoch: 19/20... Step: 2540... Loss: 1.2582... Val Loss: 1.2897\n",
      "Epoch: 19/20... Step: 2550... Loss: 1.2145... Val Loss: 1.2851\n",
      "Epoch: 19/20... Step: 2560... Loss: 1.2268... Val Loss: 1.2866\n",
      "Epoch: 19/20... Step: 2570... Loss: 1.2268... Val Loss: 1.2862\n",
      "Epoch: 19/20... Step: 2580... Loss: 1.2508... Val Loss: 1.2847\n",
      "Epoch: 19/20... Step: 2590... Loss: 1.2150... Val Loss: 1.2917\n",
      "Epoch: 19/20... Step: 2600... Loss: 1.2152... Val Loss: 1.2896\n",
      "Epoch: 19/20... Step: 2610... Loss: 1.2276... Val Loss: 1.2885\n",
      "Epoch: 19/20... Step: 2620... Loss: 1.2068... Val Loss: 1.2889\n",
      "Epoch: 19/20... Step: 2630... Loss: 1.2066... Val Loss: 1.2839\n",
      "Epoch: 19/20... Step: 2640... Loss: 1.2309... Val Loss: 1.2834\n",
      "Epoch: 20/20... Step: 2650... Loss: 1.2179... Val Loss: 1.2779\n"
     ]
    },
    {
     "name": "stdout",
     "output_type": "stream",
     "text": [
      "Epoch: 20/20... Step: 2660... Loss: 1.2256... Val Loss: 1.2803\n",
      "Epoch: 20/20... Step: 2670... Loss: 1.2396... Val Loss: 1.2817\n",
      "Epoch: 20/20... Step: 2680... Loss: 1.2199... Val Loss: 1.2809\n",
      "Epoch: 20/20... Step: 2690... Loss: 1.2117... Val Loss: 1.2798\n",
      "Epoch: 20/20... Step: 2700... Loss: 1.2210... Val Loss: 1.2768\n",
      "Epoch: 20/20... Step: 2710... Loss: 1.1928... Val Loss: 1.2800\n",
      "Epoch: 20/20... Step: 2720... Loss: 1.1942... Val Loss: 1.2765\n",
      "Epoch: 20/20... Step: 2730... Loss: 1.1961... Val Loss: 1.2763\n",
      "Epoch: 20/20... Step: 2740... Loss: 1.1855... Val Loss: 1.2762\n",
      "Epoch: 20/20... Step: 2750... Loss: 1.1892... Val Loss: 1.2779\n",
      "Epoch: 20/20... Step: 2760... Loss: 1.1920... Val Loss: 1.2754\n",
      "Epoch: 20/20... Step: 2770... Loss: 1.2259... Val Loss: 1.2768\n",
      "Epoch: 20/20... Step: 2780... Loss: 1.2464... Val Loss: 1.2749\n"
     ]
    }
   ],
   "source": [
    "batch_size = 128\n",
    "seq_length = 100\n",
    "n_epochs =  20# start small if you are just testing initial behavior\n",
    "\n",
    "# train the model\n",
    "train(net, encoded, epochs=n_epochs, batch_size=batch_size, seq_length=seq_length, lr=0.001, print_every=10)"
   ]
  },
  {
   "cell_type": "markdown",
   "metadata": {},
   "source": [
    "## Getting the best model\n",
    "\n",
    "To set your hyperparameters to get the best performance, you'll want to watch the training and validation losses. If your training loss is much lower than the validation loss, you're overfitting. Increase regularization (more dropout) or use a smaller network. If the training and validation losses are close, you're underfitting so you can increase the size of the network."
   ]
  },
  {
   "cell_type": "markdown",
   "metadata": {},
   "source": [
    "## Hyperparameters\n",
    "\n",
    "Here are the hyperparameters for the network.\n",
    "\n",
    "In defining the model:\n",
    "* `n_hidden` - The number of units in the hidden layers.\n",
    "* `n_layers` - Number of hidden LSTM layers to use.\n",
    "\n",
    "We assume that dropout probability and learning rate will be kept at the default, in this example.\n",
    "\n",
    "And in training:\n",
    "* `batch_size` - Number of sequences running through the network in one pass.\n",
    "* `seq_length` - Number of characters in the sequence the network is trained on. Larger is better typically, the network will learn more long range dependencies. But it takes longer to train. 100 is typically a good number here.\n",
    "* `lr` - Learning rate for training\n",
    "\n",
    "Here's some good advice from Andrej Karpathy on training the network. I'm going to copy it in here for your benefit, but also link to [where it originally came from](https://github.com/karpathy/char-rnn#tips-and-tricks).\n",
    "\n",
    "> ## Tips and Tricks\n",
    "\n",
    ">### Monitoring Validation Loss vs. Training Loss\n",
    ">If you're somewhat new to Machine Learning or Neural Networks it can take a bit of expertise to get good models. The most important quantity to keep track of is the difference between your training loss (printed during training) and the validation loss (printed once in a while when the RNN is run on the validation data (by default every 1000 iterations)). In particular:\n",
    "\n",
    "> - If your training loss is much lower than validation loss then this means the network might be **overfitting**. Solutions to this are to decrease your network size, or to increase dropout. For example you could try dropout of 0.5 and so on.\n",
    "> - If your training/validation loss are about equal then your model is **underfitting**. Increase the size of your model (either number of layers or the raw number of neurons per layer)\n",
    "\n",
    "> ### Approximate number of parameters\n",
    "\n",
    "> The two most important parameters that control the model are `n_hidden` and `n_layers`. I would advise that you always use `n_layers` of either 2/3. The `n_hidden` can be adjusted based on how much data you have. The two important quantities to keep track of here are:\n",
    "\n",
    "> - The number of parameters in your model. This is printed when you start training.\n",
    "> - The size of your dataset. 1MB file is approximately 1 million characters.\n",
    "\n",
    ">These two should be about the same order of magnitude. It's a little tricky to tell. Here are some examples:\n",
    "\n",
    "> - I have a 100MB dataset and I'm using the default parameter settings (which currently print 150K parameters). My data size is significantly larger (100 mil >> 0.15 mil), so I expect to heavily underfit. I am thinking I can comfortably afford to make `n_hidden` larger.\n",
    "> - I have a 10MB dataset and running a 10 million parameter model. I'm slightly nervous and I'm carefully monitoring my validation loss. If it's larger than my training loss then I may want to try to increase dropout a bit and see if that helps the validation loss.\n",
    "\n",
    "> ### Best models strategy\n",
    "\n",
    ">The winning strategy to obtaining very good models (if you have the compute time) is to always err on making the network larger (as large as you're willing to wait for it to compute) and then try different dropout values (between 0,1). Whatever model has the best validation performance (the loss, written in the checkpoint filename, low is good) is the one you should use in the end.\n",
    "\n",
    ">It is very common in deep learning to run many different models with many different hyperparameter settings, and in the end take whatever checkpoint gave the best validation performance.\n",
    "\n",
    ">By the way, the size of your training and validation splits are also parameters. Make sure you have a decent amount of data in your validation set or otherwise the validation performance will be noisy and not very informative."
   ]
  },
  {
   "cell_type": "markdown",
   "metadata": {},
   "source": [
    "## Checkpoint\n",
    "\n",
    "After training, we'll save the model so we can load it again later if we need too. Here I'm saving the parameters needed to create the same architecture, the hidden layer hyperparameters and the text characters."
   ]
  },
  {
   "cell_type": "code",
   "execution_count": 40,
   "metadata": {},
   "outputs": [],
   "source": [
    "# change the name, for saving multiple files\n",
    "model_name = 'rnn_x_epoch.net'\n",
    "\n",
    "checkpoint = {'n_hidden': net.n_hidden,\n",
    "              'n_layers': net.n_layers,\n",
    "              'state_dict': net.state_dict(),\n",
    "              'tokens': net.chars}\n",
    "\n",
    "with open(model_name, 'wb') as f:\n",
    "    torch.save(checkpoint, f)"
   ]
  },
  {
   "cell_type": "markdown",
   "metadata": {},
   "source": [
    "---\n",
    "## Making Predictions\n",
    "\n",
    "Now that the model is trained, we'll want to sample from it and make predictions about next characters! To sample, we pass in a character and have the network predict the next character. Then we take that character, pass it back in, and get another predicted character. Just keep doing this and you'll generate a bunch of text!\n",
    "\n",
    "### A note on the `predict`  function\n",
    "\n",
    "The output of our RNN is from a fully-connected layer and it outputs a **distribution of next-character scores**.\n",
    "\n",
    "> To actually get the next character, we apply a softmax function, which gives us a *probability* distribution that we can then sample to predict the next character.\n",
    "\n",
    "### Top K sampling\n",
    "\n",
    "Our predictions come from a categorical probability distribution over all the possible characters. We can make the sample text and make it more reasonable to handle (with less variables) by only considering some $K$ most probable characters. This will prevent the network from giving us completely absurd characters while allowing it to introduce some noise and randomness into the sampled text. Read more about [topk, here](https://pytorch.org/docs/stable/torch.html#torch.topk).\n"
   ]
  },
  {
   "cell_type": "code",
   "execution_count": 41,
   "metadata": {},
   "outputs": [],
   "source": [
    "def predict(net, char, h=None, top_k=None):\n",
    "        ''' Given a character, predict the next character.\n",
    "            Returns the predicted character and the hidden state.\n",
    "        '''\n",
    "        \n",
    "        # tensor inputs\n",
    "        x = np.array([[net.char2int[char]]])\n",
    "        x = one_hot_encode(x, len(net.chars))\n",
    "        inputs = torch.from_numpy(x)\n",
    "        \n",
    "        if(train_on_gpu):\n",
    "            inputs = inputs.cuda()\n",
    "        \n",
    "        # detach hidden state from history\n",
    "        h = tuple([each.data for each in h])\n",
    "        # get the output of the model\n",
    "        out, h = net(inputs, h)\n",
    "\n",
    "        # get the character probabilities\n",
    "        p = F.softmax(out, dim=1).data\n",
    "        if(train_on_gpu):\n",
    "            p = p.cpu() # move to cpu\n",
    "        \n",
    "        # get top characters\n",
    "        if top_k is None:\n",
    "            top_ch = np.arange(len(net.chars))\n",
    "        else:\n",
    "            p, top_ch = p.topk(top_k)\n",
    "            top_ch = top_ch.numpy().squeeze()\n",
    "        \n",
    "        # select the likely next character with some element of randomness\n",
    "        p = p.numpy().squeeze()\n",
    "        char = np.random.choice(top_ch, p=p/p.sum())\n",
    "        \n",
    "        # return the encoded value of the predicted char and the hidden state\n",
    "        return net.int2char[char], h"
   ]
  },
  {
   "cell_type": "markdown",
   "metadata": {},
   "source": [
    "### Priming and generating text \n",
    "\n",
    "Typically you'll want to prime the network so you can build up a hidden state. Otherwise the network will start out generating characters at random. In general the first bunch of characters will be a little rough since it hasn't built up a long history of characters to predict from."
   ]
  },
  {
   "cell_type": "code",
   "execution_count": 42,
   "metadata": {},
   "outputs": [],
   "source": [
    "def sample(net, size, prime='The', top_k=None):\n",
    "        \n",
    "    if(train_on_gpu):\n",
    "        net.cuda()\n",
    "    else:\n",
    "        net.cpu()\n",
    "    \n",
    "    net.eval() # eval mode\n",
    "    \n",
    "    # First off, run through the prime characters\n",
    "    chars = [ch for ch in prime]\n",
    "    h = net.init_hidden(1)\n",
    "    for ch in prime:\n",
    "        char, h = predict(net, ch, h, top_k=top_k)\n",
    "\n",
    "    chars.append(char)\n",
    "    \n",
    "    # Now pass in the previous character and get a new one\n",
    "    for ii in range(size):\n",
    "        char, h = predict(net, chars[-1], h, top_k=top_k)\n",
    "        chars.append(char)\n",
    "\n",
    "    return ''.join(chars)"
   ]
  },
  {
   "cell_type": "code",
   "execution_count": 43,
   "metadata": {},
   "outputs": [
    {
     "name": "stdout",
     "output_type": "stream",
     "text": [
      "Anna and Stepan\n",
      "Arkadyevitch's side, and a compasion of the footman, he was told him,\n",
      "but that there was no mere sounds, who had anntinectod fashed on the\n",
      "stopp of the point of the same sincering and the simple as to\n",
      "have his father handed all the pircusion, and she was a carriage, he\n",
      "was carefully so that he had think in a charming at inquiring that\n",
      "that happoness of the sound of her conditions of the meeting of the contrary\n",
      "which was a strained from the conversation, he was talking to her thinking\n",
      "at the sight of his braining tin exasterated by the precision, with\n",
      "society is always standing with his hand. See his belachive could\n",
      "not go away. He had said its official time with the station with a consequence of\n",
      "his sill-gless and the meadow he was talking with some calmer which he\n",
      "were through her fina house, he for that moment, was sensising it.\n",
      "\n",
      "\"I am sitting only a general son. Alexey Alexandrovitch's three points and\n",
      "satisfaction in a little fortune, that I'll say to her she would be de\n"
     ]
    }
   ],
   "source": [
    "print(sample(net, 1000, prime='Anna', top_k=5))"
   ]
  },
  {
   "cell_type": "markdown",
   "metadata": {},
   "source": [
    "## Loading a checkpoint"
   ]
  },
  {
   "cell_type": "code",
   "execution_count": 44,
   "metadata": {},
   "outputs": [],
   "source": [
    "# Here we have loaded in a model that trained over 20 epochs `rnn_20_epoch.net`\n",
    "with open('rnn_x_epoch.net', 'rb') as f:\n",
    "    checkpoint = torch.load(f)\n",
    "    \n",
    "loaded = CharRNN(checkpoint['tokens'], n_hidden=checkpoint['n_hidden'], n_layers=checkpoint['n_layers'])\n",
    "loaded.load_state_dict(checkpoint['state_dict'])"
   ]
  },
  {
   "cell_type": "code",
   "execution_count": 45,
   "metadata": {},
   "outputs": [
    {
     "name": "stdout",
     "output_type": "stream",
     "text": [
      "And Levin said\n",
      "she was dared as he saw in, answer to see the sort of thinks and\n",
      "teacturiss against the box of his storing terriping starent hands of.\n",
      "\n",
      "\"We'll say that. I can't talk of this simple as a conversation is a suntation,\n",
      "when you were straight to him, and then you don't brink all to the\n",
      "mother and the point that he had a mans, and so as though the same taiget time it\n",
      "is a force, but you would say some doing.\"\n",
      "\n",
      "\"Oh, I had a crace,\" said Stapan Arkadyevitch, wonderfully angre, and saw the\n",
      "conversation all that her hands were crossed at Levin he would have been frashing the\n",
      "straight face, and some terrible man as though the sound of as though however\n",
      "that there was it as he had to go away times to anyone, and the\n",
      "singing that in the same stranger and shooking of it, and the moments and the\n",
      "party had said simply and serious conditions in the stands to the mire of\n",
      "standing the soloors of his chueffinger there, too, and what he had been taking it over the\n",
      "friends of their position of time of the men still an iffection in a silence\n",
      "when he told me to both him of the frash of all how instanting the prectical, he\n",
      "settled an interest in his wife. But what was strungthen to her. And to the peasants\n",
      "he was for his hand and stood at the princess to take her the\n",
      "menting of the princess, and was saying, and was a stoped face. All\n",
      "his brother, was asked to the same time. The son again, as though some call and\n",
      "continual artist, and she was too staying in succos and the memories of a line, and\n",
      "to be, and said to his sensation of a study to her strenctes,\n",
      "with his hands, which had not been to be in his finate and a landow house, and\n",
      "was imposting to saying abroad. But the minute was a sort of\n",
      "his face. He went up to herself at some drawing room; but the same attance they\n",
      "cheeked and satisfied: \"I say suppositaly. If I who had. Though they were improper\n",
      "and might be to be fire to the princess, when you want to tell you.\"\n",
      "\n",
      "\"Oh, I'm not anything, I'm going. I've thought it to me.\"\n",
      "\n",
      "\"Yes, you k\n"
     ]
    }
   ],
   "source": [
    "# Sample using a loaded model\n",
    "print(sample(loaded, 2000, top_k=5, prime=\"And Levin said\"))"
   ]
  },
  {
   "cell_type": "code",
   "execution_count": null,
   "metadata": {
    "collapsed": true
   },
   "outputs": [],
   "source": []
  }
 ],
 "metadata": {
  "kernelspec": {
   "display_name": "Python 3",
   "language": "python",
   "name": "python3"
  },
  "language_info": {
   "codemirror_mode": {
    "name": "ipython",
    "version": 3
   },
   "file_extension": ".py",
   "mimetype": "text/x-python",
   "name": "python",
   "nbconvert_exporter": "python",
   "pygments_lexer": "ipython3",
   "version": "3.6.3"
  }
 },
 "nbformat": 4,
 "nbformat_minor": 2
}
